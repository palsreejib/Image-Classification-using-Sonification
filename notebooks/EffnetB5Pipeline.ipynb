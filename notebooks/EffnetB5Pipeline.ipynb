{
 "cells": [
  {
   "cell_type": "markdown",
   "id": "6bf7820a-0001-4527-a933-797a4357df17",
   "metadata": {},
   "source": [
    "# Final pipeline for EfficientNet_B5"
   ]
  },
  {
   "cell_type": "markdown",
   "id": "a0145051-7673-4dc1-90a9-e6e5f9cfda3c",
   "metadata": {},
   "source": [
    "Set up device agnoitic code"
   ]
  },
  {
   "cell_type": "code",
   "execution_count": 1,
   "id": "b66daf35-ab8c-4326-84fb-34f4e38b1209",
   "metadata": {},
   "outputs": [
    {
     "data": {
      "text/plain": [
       "'cuda'"
      ]
     },
     "execution_count": 1,
     "metadata": {},
     "output_type": "execute_result"
    }
   ],
   "source": [
    "import torch\n",
    "\n",
    "device = \"cuda\" if torch.cuda.is_available() else \"cpu\"\n",
    "device"
   ]
  },
  {
   "cell_type": "markdown",
   "id": "3170ce87-42d9-44a5-b0b8-fe09d7f6a4a4",
   "metadata": {},
   "source": [
    "Regular imports"
   ]
  },
  {
   "cell_type": "code",
   "execution_count": 2,
   "id": "8c6d5949-0867-4ecb-8872-f36e287fb929",
   "metadata": {},
   "outputs": [],
   "source": [
    "import matplotlib.pyplot as plt\n",
    "import torch\n",
    "import torchvision\n",
    "\n",
    "from torch import nn\n",
    "from torchvision import transforms\n",
    "from torchvision import datasets, transforms\n",
    "from torch.utils.data import DataLoader"
   ]
  },
  {
   "cell_type": "markdown",
   "id": "dd92d541-bb5c-4704-b1d5-f8616e8a7cbc",
   "metadata": {},
   "source": [
    "## Set up path to Data"
   ]
  },
  {
   "cell_type": "code",
   "execution_count": 3,
   "id": "aa34c4c6-ff7b-4e1d-932c-9b54fc53dd41",
   "metadata": {},
   "outputs": [
    {
     "name": "stdout",
     "output_type": "stream",
     "text": [
      "data\\Animal-spectogram2 directory exists.\n"
     ]
    }
   ],
   "source": [
    "import os\n",
    "import zipfile\n",
    "\n",
    "from pathlib import Path\n",
    "\n",
    "import requests\n",
    "\n",
    "# Setup path to data folder\n",
    "data_path = Path(\"data/\")\n",
    "image_path = data_path / \"Animal-spectogram2\"\n",
    "\n",
    "if image_path.is_dir():\n",
    "    print(f\"{image_path} directory exists.\")\n",
    "else:\n",
    "    print(f\"Did not find {image_path} directory, creating one...\")\n"
   ]
  },
  {
   "cell_type": "markdown",
   "id": "37446c5a-f091-432a-8c9b-a724fac544de",
   "metadata": {},
   "source": [
    "Set up dirs"
   ]
  },
  {
   "cell_type": "code",
   "execution_count": 4,
   "id": "84426b14-5ea1-49e7-8c27-bf1c26db4142",
   "metadata": {},
   "outputs": [],
   "source": [
    "# Setup Dirs\n",
    "train_dir = image_path / \"train\"\n",
    "test_dir = image_path / \"test\""
   ]
  },
  {
   "cell_type": "markdown",
   "id": "8b78a13e-42b2-40a0-9b35-7e1a469ad64b",
   "metadata": {},
   "source": [
    "## Create Dataset and DataLoaders"
   ]
  },
  {
   "cell_type": "markdown",
   "id": "d7e47017-6a66-4a62-be6a-c51e5504744c",
   "metadata": {},
   "source": [
    "### Creating transforms for our model\n",
    "\n",
    "We must follow the weights that are mentioned and are required for our chosen model, `efficientnet_b5` from `torchvision.models`\n",
    "\n",
    "Hence, for the `efficientnet_b5` we will take `EfficientNet_B5_Weights`"
   ]
  },
  {
   "cell_type": "code",
   "execution_count": 5,
   "id": "0f38f56b-b47c-4388-88d9-4d11e072855c",
   "metadata": {},
   "outputs": [
    {
     "data": {
      "text/plain": [
       "EfficientNet_B5_Weights.IMAGENET1K_V1"
      ]
     },
     "execution_count": 5,
     "metadata": {},
     "output_type": "execute_result"
    }
   ],
   "source": [
    "# Get a set of pretrained model weights\n",
    "weights = torchvision.models.EfficientNet_B5_Weights.DEFAULT # .DEFAULT = best available weights from pretraining on ImageNet\n",
    "weights"
   ]
  },
  {
   "cell_type": "markdown",
   "id": "153407ff-018e-45bf-b708-7624b42b46d7",
   "metadata": {},
   "source": [
    "## Data Preprocess (According to model `efficientnet_b5`)\n",
    "\n",
    "Now, we will use the predefined transforms associated with `EfficientNet_B5_Weights.DEFAULT` to preprocess our data using the `transforms()` method"
   ]
  },
  {
   "cell_type": "code",
   "execution_count": 6,
   "id": "c966e734-eef3-446d-ad10-161c8012b170",
   "metadata": {},
   "outputs": [
    {
     "data": {
      "text/plain": [
       "ImageClassification(\n",
       "    crop_size=[456]\n",
       "    resize_size=[456]\n",
       "    mean=[0.485, 0.456, 0.406]\n",
       "    std=[0.229, 0.224, 0.225]\n",
       "    interpolation=InterpolationMode.BICUBIC\n",
       ")"
      ]
     },
     "execution_count": 6,
     "metadata": {},
     "output_type": "execute_result"
    }
   ],
   "source": [
    "# Get the transforms used to create our pretrained weights\n",
    "auto_transforms = weights.transforms()\n",
    "auto_transforms"
   ]
  },
  {
   "cell_type": "markdown",
   "id": "363fcbe8-deaa-4551-9a10-209e7736f012",
   "metadata": {},
   "source": [
    "## Create Dataset\n",
    "\n",
    "Convert our image data into a dataset (tensors) that can be accessed and understood by our model"
   ]
  },
  {
   "cell_type": "code",
   "execution_count": 7,
   "id": "e1d69dab-f5d6-4b89-a940-e7d2ad52f59a",
   "metadata": {},
   "outputs": [
    {
     "data": {
      "text/plain": [
       "(Dataset ImageFolder\n",
       "     Number of datapoints: 2240\n",
       "     Root location: data\\Animal-spectogram2\\train\n",
       "     StandardTransform\n",
       " Transform: ImageClassification(\n",
       "                crop_size=[456]\n",
       "                resize_size=[456]\n",
       "                mean=[0.485, 0.456, 0.406]\n",
       "                std=[0.229, 0.224, 0.225]\n",
       "                interpolation=InterpolationMode.BICUBIC\n",
       "            ),\n",
       " Dataset ImageFolder\n",
       "     Number of datapoints: 560\n",
       "     Root location: data\\Animal-spectogram2\\test\n",
       "     StandardTransform\n",
       " Transform: ImageClassification(\n",
       "                crop_size=[456]\n",
       "                resize_size=[456]\n",
       "                mean=[0.485, 0.456, 0.406]\n",
       "                std=[0.229, 0.224, 0.225]\n",
       "                interpolation=InterpolationMode.BICUBIC\n",
       "            ))"
      ]
     },
     "execution_count": 7,
     "metadata": {},
     "output_type": "execute_result"
    }
   ],
   "source": [
    "train_data = datasets.ImageFolder(train_dir, transform=auto_transforms)\n",
    "test_data = datasets.ImageFolder(test_dir, transform=auto_transforms)\n",
    "\n",
    "train_data, test_data"
   ]
  },
  {
   "cell_type": "markdown",
   "id": "bfee92fe-8f00-49bb-8a5f-93924b6c13e1",
   "metadata": {},
   "source": [
    "## Create DataLoaders\n",
    "\n",
    "\n",
    "To make our dataset iterable"
   ]
  },
  {
   "cell_type": "code",
   "execution_count": 8,
   "id": "dcf13dc8-a51e-4529-a379-2516e57d148f",
   "metadata": {},
   "outputs": [
    {
     "data": {
      "text/plain": [
       "(<torch.utils.data.dataloader.DataLoader at 0x182a40f78b0>,\n",
       " <torch.utils.data.dataloader.DataLoader at 0x182a40f78e0>)"
      ]
     },
     "execution_count": 8,
     "metadata": {},
     "output_type": "execute_result"
    }
   ],
   "source": [
    "# Create training and testing DataLoaders as well as get a list of class names\n",
    "BATCH_SIZE = 32\n",
    "\n",
    "train_dataloader = DataLoader(\n",
    "      dataset=train_data,\n",
    "      batch_size=BATCH_SIZE,\n",
    "      shuffle=True,\n",
    "      num_workers=os.cpu_count(),\n",
    ")\n",
    "test_dataloader = DataLoader(\n",
    "      dataset=test_data,\n",
    "      batch_size=BATCH_SIZE,\n",
    "      shuffle=False, # don't need to shuffle test data\n",
    "      num_workers=os.cpu_count(),\n",
    ")\n",
    "\n",
    "train_dataloader, test_dataloader"
   ]
  },
  {
   "cell_type": "markdown",
   "id": "cc537bb6-5f52-452f-9af1-0aa690f07374",
   "metadata": {},
   "source": [
    "## Getting a pre-trained model (`efficientnet_b5`)"
   ]
  },
  {
   "cell_type": "code",
   "execution_count": 9,
   "id": "15f9ca81-0776-4a35-9cde-e54ec6d621cd",
   "metadata": {},
   "outputs": [],
   "source": [
    "weights = torchvision.models.EfficientNet_B5_Weights.DEFAULT \n",
    "model = torchvision.models.efficientnet_b5(weights=weights).to(device)"
   ]
  },
  {
   "cell_type": "markdown",
   "id": "636117bb-1552-4c6c-833f-eca725ebdb1b",
   "metadata": {},
   "source": [
    "### Classical Model summary"
   ]
  },
  {
   "cell_type": "code",
   "execution_count": 10,
   "id": "202131a3-7142-41c5-9822-3f509744d1fb",
   "metadata": {},
   "outputs": [
    {
     "data": {
      "text/plain": [
       "============================================================================================================================================\n",
       "Layer (type (var_name))                                      Input Shape          Output Shape         Param #              Trainable\n",
       "============================================================================================================================================\n",
       "EfficientNet (EfficientNet)                                  [32, 3, 224, 224]    [32, 1000]           --                   True\n",
       "├─Sequential (features)                                      [32, 3, 224, 224]    [32, 2048, 7, 7]     --                   True\n",
       "│    └─Conv2dNormActivation (0)                              [32, 3, 224, 224]    [32, 48, 112, 112]   --                   True\n",
       "│    │    └─Conv2d (0)                                       [32, 3, 224, 224]    [32, 48, 112, 112]   1,296                True\n",
       "│    │    └─BatchNorm2d (1)                                  [32, 48, 112, 112]   [32, 48, 112, 112]   96                   True\n",
       "│    │    └─SiLU (2)                                         [32, 48, 112, 112]   [32, 48, 112, 112]   --                   --\n",
       "│    └─Sequential (1)                                        [32, 48, 112, 112]   [32, 24, 112, 112]   --                   True\n",
       "│    │    └─MBConv (0)                                       [32, 48, 112, 112]   [32, 24, 112, 112]   2,940                True\n",
       "│    │    └─MBConv (1)                                       [32, 24, 112, 112]   [32, 24, 112, 112]   1,206                True\n",
       "│    │    └─MBConv (2)                                       [32, 24, 112, 112]   [32, 24, 112, 112]   1,206                True\n",
       "│    └─Sequential (2)                                        [32, 24, 112, 112]   [32, 40, 56, 56]     --                   True\n",
       "│    │    └─MBConv (0)                                       [32, 24, 112, 112]   [32, 40, 56, 56]     13,046               True\n",
       "│    │    └─MBConv (1)                                       [32, 40, 56, 56]     [32, 40, 56, 56]     27,450               True\n",
       "│    │    └─MBConv (2)                                       [32, 40, 56, 56]     [32, 40, 56, 56]     27,450               True\n",
       "│    │    └─MBConv (3)                                       [32, 40, 56, 56]     [32, 40, 56, 56]     27,450               True\n",
       "│    │    └─MBConv (4)                                       [32, 40, 56, 56]     [32, 40, 56, 56]     27,450               True\n",
       "│    └─Sequential (3)                                        [32, 40, 56, 56]     [32, 64, 28, 28]     --                   True\n",
       "│    │    └─MBConv (0)                                       [32, 40, 56, 56]     [32, 64, 28, 28]     37,098               True\n",
       "│    │    └─MBConv (1)                                       [32, 64, 28, 28]     [32, 64, 28, 28]     73,104               True\n",
       "│    │    └─MBConv (2)                                       [32, 64, 28, 28]     [32, 64, 28, 28]     73,104               True\n",
       "│    │    └─MBConv (3)                                       [32, 64, 28, 28]     [32, 64, 28, 28]     73,104               True\n",
       "│    │    └─MBConv (4)                                       [32, 64, 28, 28]     [32, 64, 28, 28]     73,104               True\n",
       "│    └─Sequential (4)                                        [32, 64, 28, 28]     [32, 128, 14, 14]    --                   True\n",
       "│    │    └─MBConv (0)                                       [32, 64, 28, 28]     [32, 128, 14, 14]    91,664               True\n",
       "│    │    └─MBConv (1)                                       [32, 128, 14, 14]    [32, 128, 14, 14]    256,800              True\n",
       "│    │    └─MBConv (2)                                       [32, 128, 14, 14]    [32, 128, 14, 14]    256,800              True\n",
       "│    │    └─MBConv (3)                                       [32, 128, 14, 14]    [32, 128, 14, 14]    256,800              True\n",
       "│    │    └─MBConv (4)                                       [32, 128, 14, 14]    [32, 128, 14, 14]    256,800              True\n",
       "│    │    └─MBConv (5)                                       [32, 128, 14, 14]    [32, 128, 14, 14]    256,800              True\n",
       "│    │    └─MBConv (6)                                       [32, 128, 14, 14]    [32, 128, 14, 14]    256,800              True\n",
       "│    └─Sequential (5)                                        [32, 128, 14, 14]    [32, 176, 14, 14]    --                   True\n",
       "│    │    └─MBConv (0)                                       [32, 128, 14, 14]    [32, 176, 14, 14]    306,048              True\n",
       "│    │    └─MBConv (1)                                       [32, 176, 14, 14]    [32, 176, 14, 14]    496,716              True\n",
       "│    │    └─MBConv (2)                                       [32, 176, 14, 14]    [32, 176, 14, 14]    496,716              True\n",
       "│    │    └─MBConv (3)                                       [32, 176, 14, 14]    [32, 176, 14, 14]    496,716              True\n",
       "│    │    └─MBConv (4)                                       [32, 176, 14, 14]    [32, 176, 14, 14]    496,716              True\n",
       "│    │    └─MBConv (5)                                       [32, 176, 14, 14]    [32, 176, 14, 14]    496,716              True\n",
       "│    │    └─MBConv (6)                                       [32, 176, 14, 14]    [32, 176, 14, 14]    496,716              True\n",
       "│    └─Sequential (6)                                        [32, 176, 14, 14]    [32, 304, 7, 7]      --                   True\n",
       "│    │    └─MBConv (0)                                       [32, 176, 14, 14]    [32, 304, 7, 7]      632,140              True\n",
       "│    │    └─MBConv (1)                                       [32, 304, 7, 7]      [32, 304, 7, 7]      1,441,644            True\n",
       "│    │    └─MBConv (2)                                       [32, 304, 7, 7]      [32, 304, 7, 7]      1,441,644            True\n",
       "│    │    └─MBConv (3)                                       [32, 304, 7, 7]      [32, 304, 7, 7]      1,441,644            True\n",
       "│    │    └─MBConv (4)                                       [32, 304, 7, 7]      [32, 304, 7, 7]      1,441,644            True\n",
       "│    │    └─MBConv (5)                                       [32, 304, 7, 7]      [32, 304, 7, 7]      1,441,644            True\n",
       "│    │    └─MBConv (6)                                       [32, 304, 7, 7]      [32, 304, 7, 7]      1,441,644            True\n",
       "│    │    └─MBConv (7)                                       [32, 304, 7, 7]      [32, 304, 7, 7]      1,441,644            True\n",
       "│    │    └─MBConv (8)                                       [32, 304, 7, 7]      [32, 304, 7, 7]      1,441,644            True\n",
       "│    └─Sequential (7)                                        [32, 304, 7, 7]      [32, 512, 7, 7]      --                   True\n",
       "│    │    └─MBConv (0)                                       [32, 304, 7, 7]      [32, 512, 7, 7]      1,792,268            True\n",
       "│    │    └─MBConv (1)                                       [32, 512, 7, 7]      [32, 512, 7, 7]      3,976,320            True\n",
       "│    │    └─MBConv (2)                                       [32, 512, 7, 7]      [32, 512, 7, 7]      3,976,320            True\n",
       "│    └─Conv2dNormActivation (8)                              [32, 512, 7, 7]      [32, 2048, 7, 7]     --                   True\n",
       "│    │    └─Conv2d (0)                                       [32, 512, 7, 7]      [32, 2048, 7, 7]     1,048,576            True\n",
       "│    │    └─BatchNorm2d (1)                                  [32, 2048, 7, 7]     [32, 2048, 7, 7]     4,096                True\n",
       "│    │    └─SiLU (2)                                         [32, 2048, 7, 7]     [32, 2048, 7, 7]     --                   --\n",
       "├─AdaptiveAvgPool2d (avgpool)                                [32, 2048, 7, 7]     [32, 2048, 1, 1]     --                   --\n",
       "├─Sequential (classifier)                                    [32, 2048]           [32, 1000]           --                   True\n",
       "│    └─Dropout (0)                                           [32, 2048]           [32, 2048]           --                   --\n",
       "│    └─Linear (1)                                            [32, 2048]           [32, 1000]           2,049,000            True\n",
       "============================================================================================================================================\n",
       "Total params: 30,389,784\n",
       "Trainable params: 30,389,784\n",
       "Non-trainable params: 0\n",
       "Total mult-adds (G): 75.41\n",
       "============================================================================================================================================\n",
       "Input size (MB): 19.27\n",
       "Forward/backward pass size (MB): 11980.97\n",
       "Params size (MB): 121.56\n",
       "Estimated Total Size (MB): 12121.79\n",
       "============================================================================================================================================"
      ]
     },
     "execution_count": 10,
     "metadata": {},
     "output_type": "execute_result"
    }
   ],
   "source": [
    "from torchinfo import summary\n",
    "\n",
    "summary(model=model, \n",
    "        input_size=(BATCH_SIZE, 3, 224, 224), # make sure this is \"input_size\", not \"input_shape\"\n",
    "        col_names=[\"input_size\", \"output_size\", \"num_params\", \"trainable\"],\n",
    "        col_width=20,\n",
    "        row_settings=[\"var_names\"]\n",
    ") "
   ]
  },
  {
   "cell_type": "markdown",
   "id": "560bcabd-d8fa-4481-b8b6-918d4f43b370",
   "metadata": {},
   "source": [
    "### Augmenting `model` to meet our requirements"
   ]
  },
  {
   "cell_type": "code",
   "execution_count": 11,
   "id": "e3271af8-7b74-45ef-b95e-29c9fa7b58a7",
   "metadata": {},
   "outputs": [],
   "source": [
    "# Freeze all layers except the final head (optional but recommended for fine-tuning)\n",
    "for param in model.parameters():\n",
    "    param.requires_grad = False\n",
    "\n",
    "# Set the manual seeds\n",
    "torch.manual_seed(42) # To maintain same output\n",
    "torch.cuda.manual_seed(42)\n",
    "\n",
    "num_classes = len(train_data.classes)\n",
    "\n",
    "# Replace the final classification head for your 18 classes\n",
    "num_ftrs = model.classifier[1].in_features  \n",
    "model.classifier[1] = nn.Linear(num_ftrs, num_classes)"
   ]
  },
  {
   "cell_type": "markdown",
   "id": "c331a146-a337-4b10-b0cb-f9439a650c77",
   "metadata": {},
   "source": [
    "### Augmented model summary"
   ]
  },
  {
   "cell_type": "code",
   "execution_count": 12,
   "id": "806e8d24-b91c-4c83-abac-3a17cc25d044",
   "metadata": {},
   "outputs": [
    {
     "data": {
      "text/plain": [
       "============================================================================================================================================\n",
       "Layer (type (var_name))                                      Input Shape          Output Shape         Param #              Trainable\n",
       "============================================================================================================================================\n",
       "EfficientNet (EfficientNet)                                  [32, 3, 224, 224]    [32, 10]             --                   Partial\n",
       "├─Sequential (features)                                      [32, 3, 224, 224]    [32, 2048, 7, 7]     --                   False\n",
       "│    └─Conv2dNormActivation (0)                              [32, 3, 224, 224]    [32, 48, 112, 112]   --                   False\n",
       "│    │    └─Conv2d (0)                                       [32, 3, 224, 224]    [32, 48, 112, 112]   (1,296)              False\n",
       "│    │    └─BatchNorm2d (1)                                  [32, 48, 112, 112]   [32, 48, 112, 112]   (96)                 False\n",
       "│    │    └─SiLU (2)                                         [32, 48, 112, 112]   [32, 48, 112, 112]   --                   --\n",
       "│    └─Sequential (1)                                        [32, 48, 112, 112]   [32, 24, 112, 112]   --                   False\n",
       "│    │    └─MBConv (0)                                       [32, 48, 112, 112]   [32, 24, 112, 112]   (2,940)              False\n",
       "│    │    └─MBConv (1)                                       [32, 24, 112, 112]   [32, 24, 112, 112]   (1,206)              False\n",
       "│    │    └─MBConv (2)                                       [32, 24, 112, 112]   [32, 24, 112, 112]   (1,206)              False\n",
       "│    └─Sequential (2)                                        [32, 24, 112, 112]   [32, 40, 56, 56]     --                   False\n",
       "│    │    └─MBConv (0)                                       [32, 24, 112, 112]   [32, 40, 56, 56]     (13,046)             False\n",
       "│    │    └─MBConv (1)                                       [32, 40, 56, 56]     [32, 40, 56, 56]     (27,450)             False\n",
       "│    │    └─MBConv (2)                                       [32, 40, 56, 56]     [32, 40, 56, 56]     (27,450)             False\n",
       "│    │    └─MBConv (3)                                       [32, 40, 56, 56]     [32, 40, 56, 56]     (27,450)             False\n",
       "│    │    └─MBConv (4)                                       [32, 40, 56, 56]     [32, 40, 56, 56]     (27,450)             False\n",
       "│    └─Sequential (3)                                        [32, 40, 56, 56]     [32, 64, 28, 28]     --                   False\n",
       "│    │    └─MBConv (0)                                       [32, 40, 56, 56]     [32, 64, 28, 28]     (37,098)             False\n",
       "│    │    └─MBConv (1)                                       [32, 64, 28, 28]     [32, 64, 28, 28]     (73,104)             False\n",
       "│    │    └─MBConv (2)                                       [32, 64, 28, 28]     [32, 64, 28, 28]     (73,104)             False\n",
       "│    │    └─MBConv (3)                                       [32, 64, 28, 28]     [32, 64, 28, 28]     (73,104)             False\n",
       "│    │    └─MBConv (4)                                       [32, 64, 28, 28]     [32, 64, 28, 28]     (73,104)             False\n",
       "│    └─Sequential (4)                                        [32, 64, 28, 28]     [32, 128, 14, 14]    --                   False\n",
       "│    │    └─MBConv (0)                                       [32, 64, 28, 28]     [32, 128, 14, 14]    (91,664)             False\n",
       "│    │    └─MBConv (1)                                       [32, 128, 14, 14]    [32, 128, 14, 14]    (256,800)            False\n",
       "│    │    └─MBConv (2)                                       [32, 128, 14, 14]    [32, 128, 14, 14]    (256,800)            False\n",
       "│    │    └─MBConv (3)                                       [32, 128, 14, 14]    [32, 128, 14, 14]    (256,800)            False\n",
       "│    │    └─MBConv (4)                                       [32, 128, 14, 14]    [32, 128, 14, 14]    (256,800)            False\n",
       "│    │    └─MBConv (5)                                       [32, 128, 14, 14]    [32, 128, 14, 14]    (256,800)            False\n",
       "│    │    └─MBConv (6)                                       [32, 128, 14, 14]    [32, 128, 14, 14]    (256,800)            False\n",
       "│    └─Sequential (5)                                        [32, 128, 14, 14]    [32, 176, 14, 14]    --                   False\n",
       "│    │    └─MBConv (0)                                       [32, 128, 14, 14]    [32, 176, 14, 14]    (306,048)            False\n",
       "│    │    └─MBConv (1)                                       [32, 176, 14, 14]    [32, 176, 14, 14]    (496,716)            False\n",
       "│    │    └─MBConv (2)                                       [32, 176, 14, 14]    [32, 176, 14, 14]    (496,716)            False\n",
       "│    │    └─MBConv (3)                                       [32, 176, 14, 14]    [32, 176, 14, 14]    (496,716)            False\n",
       "│    │    └─MBConv (4)                                       [32, 176, 14, 14]    [32, 176, 14, 14]    (496,716)            False\n",
       "│    │    └─MBConv (5)                                       [32, 176, 14, 14]    [32, 176, 14, 14]    (496,716)            False\n",
       "│    │    └─MBConv (6)                                       [32, 176, 14, 14]    [32, 176, 14, 14]    (496,716)            False\n",
       "│    └─Sequential (6)                                        [32, 176, 14, 14]    [32, 304, 7, 7]      --                   False\n",
       "│    │    └─MBConv (0)                                       [32, 176, 14, 14]    [32, 304, 7, 7]      (632,140)            False\n",
       "│    │    └─MBConv (1)                                       [32, 304, 7, 7]      [32, 304, 7, 7]      (1,441,644)          False\n",
       "│    │    └─MBConv (2)                                       [32, 304, 7, 7]      [32, 304, 7, 7]      (1,441,644)          False\n",
       "│    │    └─MBConv (3)                                       [32, 304, 7, 7]      [32, 304, 7, 7]      (1,441,644)          False\n",
       "│    │    └─MBConv (4)                                       [32, 304, 7, 7]      [32, 304, 7, 7]      (1,441,644)          False\n",
       "│    │    └─MBConv (5)                                       [32, 304, 7, 7]      [32, 304, 7, 7]      (1,441,644)          False\n",
       "│    │    └─MBConv (6)                                       [32, 304, 7, 7]      [32, 304, 7, 7]      (1,441,644)          False\n",
       "│    │    └─MBConv (7)                                       [32, 304, 7, 7]      [32, 304, 7, 7]      (1,441,644)          False\n",
       "│    │    └─MBConv (8)                                       [32, 304, 7, 7]      [32, 304, 7, 7]      (1,441,644)          False\n",
       "│    └─Sequential (7)                                        [32, 304, 7, 7]      [32, 512, 7, 7]      --                   False\n",
       "│    │    └─MBConv (0)                                       [32, 304, 7, 7]      [32, 512, 7, 7]      (1,792,268)          False\n",
       "│    │    └─MBConv (1)                                       [32, 512, 7, 7]      [32, 512, 7, 7]      (3,976,320)          False\n",
       "│    │    └─MBConv (2)                                       [32, 512, 7, 7]      [32, 512, 7, 7]      (3,976,320)          False\n",
       "│    └─Conv2dNormActivation (8)                              [32, 512, 7, 7]      [32, 2048, 7, 7]     --                   False\n",
       "│    │    └─Conv2d (0)                                       [32, 512, 7, 7]      [32, 2048, 7, 7]     (1,048,576)          False\n",
       "│    │    └─BatchNorm2d (1)                                  [32, 2048, 7, 7]     [32, 2048, 7, 7]     (4,096)              False\n",
       "│    │    └─SiLU (2)                                         [32, 2048, 7, 7]     [32, 2048, 7, 7]     --                   --\n",
       "├─AdaptiveAvgPool2d (avgpool)                                [32, 2048, 7, 7]     [32, 2048, 1, 1]     --                   --\n",
       "├─Sequential (classifier)                                    [32, 2048]           [32, 10]             --                   True\n",
       "│    └─Dropout (0)                                           [32, 2048]           [32, 2048]           --                   --\n",
       "│    └─Linear (1)                                            [32, 2048]           [32, 10]             20,490               True\n",
       "============================================================================================================================================\n",
       "Total params: 28,361,274\n",
       "Trainable params: 20,490\n",
       "Non-trainable params: 28,340,784\n",
       "Total mult-adds (G): 75.35\n",
       "============================================================================================================================================\n",
       "Input size (MB): 19.27\n",
       "Forward/backward pass size (MB): 11980.71\n",
       "Params size (MB): 113.45\n",
       "Estimated Total Size (MB): 12113.43\n",
       "============================================================================================================================================"
      ]
     },
     "execution_count": 12,
     "metadata": {},
     "output_type": "execute_result"
    }
   ],
   "source": [
    "summary(model, \n",
    "        input_size=(32, 3, 224, 224), # make sure this is \"input_size\", not \"input_shape\" (batch_size, color_channels, height, width)\n",
    "        verbose=0,\n",
    "        col_names=[\"input_size\", \"output_size\", \"num_params\", \"trainable\"],\n",
    "        col_width=20,\n",
    "        row_settings=[\"var_names\"]\n",
    ")"
   ]
  },
  {
   "cell_type": "markdown",
   "id": "9d24cd9f-b1e4-45c8-8a86-ca85cc94671f",
   "metadata": {},
   "source": [
    "## Train and Evaluate model"
   ]
  },
  {
   "cell_type": "code",
   "execution_count": 13,
   "id": "3ecf4636-6b57-4347-83ac-344a8cd5fc2c",
   "metadata": {},
   "outputs": [],
   "source": [
    "import os \n",
    "os.environ['KMP_DUPLICATE_LIB_OK']='True'"
   ]
  },
  {
   "cell_type": "markdown",
   "id": "0bf37991-49c3-4d6d-8678-580a19dfd787",
   "metadata": {},
   "source": [
    "### train step module\n",
    "\n",
    "Defines the training loop "
   ]
  },
  {
   "cell_type": "code",
   "execution_count": 14,
   "id": "cc481349-a1a5-45a2-9cdb-8afd2b766ede",
   "metadata": {},
   "outputs": [],
   "source": [
    "def train_step(model: torch.nn.Module, \n",
    "               dataloader: torch.utils.data.DataLoader, \n",
    "               loss_fn: torch.nn.Module, \n",
    "               optimizer: torch.optim.Optimizer):\n",
    "    # Put model in train mode\n",
    "    model.train()\n",
    "    \n",
    "    # Setup train loss and train accuracy values\n",
    "    train_loss, train_acc = 0, 0\n",
    "    \n",
    "    # Loop through data loader data batches\n",
    "    for batch, (X, y) in enumerate(dataloader):\n",
    "        # Send data to target device\n",
    "        X, y = X.to(device), y.to(device)\n",
    "\n",
    "        # 1. Forward pass\n",
    "        y_pred = model(X)\n",
    "\n",
    "        # 2. Calculate  and accumulate loss\n",
    "        loss = loss_fn(y_pred, y)\n",
    "        train_loss += loss.item() \n",
    "\n",
    "        # 3. Optimizer zero grad\n",
    "        optimizer.zero_grad()\n",
    "\n",
    "        # 4. Loss backward\n",
    "        loss.backward()\n",
    "\n",
    "        # 5. Optimizer step\n",
    "        optimizer.step()\n",
    "\n",
    "        # Calculate and accumulate accuracy metrics across all batches\n",
    "        y_pred_class = torch.argmax(torch.softmax(y_pred, dim=1), dim=1)\n",
    "        train_acc += (y_pred_class == y).sum().item()/len(y_pred)\n",
    "\n",
    "    # Adjust metrics to get average loss and accuracy per batch \n",
    "    train_loss = train_loss / len(dataloader)\n",
    "    train_acc = train_acc / len(dataloader)\n",
    "    return train_loss, train_acc"
   ]
  },
  {
   "cell_type": "markdown",
   "id": "99682ef2-ddda-494c-9824-d24e07d16f33",
   "metadata": {},
   "source": [
    "### test step module\n",
    "\n",
    "Defines the testing loop"
   ]
  },
  {
   "cell_type": "code",
   "execution_count": 15,
   "id": "fa593f07-2e19-4aec-87f8-b6c7b918fed1",
   "metadata": {},
   "outputs": [],
   "source": [
    "def test_step(model: torch.nn.Module, \n",
    "              dataloader: torch.utils.data.DataLoader, \n",
    "              loss_fn: torch.nn.Module):\n",
    "    # Put model in eval mode\n",
    "    model.eval() \n",
    "    \n",
    "    # Setup test loss and test accuracy values\n",
    "    test_loss, test_acc = 0, 0\n",
    "    \n",
    "    # Turn on inference context manager\n",
    "    with torch.inference_mode():\n",
    "        # Loop through DataLoader batches\n",
    "        for batch, (X, y) in enumerate(dataloader):\n",
    "            # Send data to target device\n",
    "            X, y = X.to(device), y.to(device)\n",
    "    \n",
    "            # 1. Forward pass\n",
    "            test_pred_logits = model(X)\n",
    "\n",
    "            # 2. Calculate and accumulate loss\n",
    "            loss = loss_fn(test_pred_logits, y)\n",
    "            test_loss += loss.item()\n",
    "            \n",
    "            # Calculate and accumulate accuracy\n",
    "            test_pred_labels = test_pred_logits.argmax(dim=1)\n",
    "            test_acc += ((test_pred_labels == y).sum().item()/len(test_pred_labels))\n",
    "            \n",
    "    # Adjust metrics to get average loss and accuracy per batch \n",
    "    test_loss = test_loss / len(dataloader)\n",
    "    test_acc = test_acc / len(dataloader)\n",
    "    return test_loss, test_acc"
   ]
  },
  {
   "cell_type": "markdown",
   "id": "36d2a75e-60ad-469a-b8e2-7197668b5ba3",
   "metadata": {},
   "source": [
    "### `train()` to combine both the train step and test step in one go"
   ]
  },
  {
   "cell_type": "code",
   "execution_count": 16,
   "id": "5392bcfd-bf9e-4b03-a2dd-18b0bbe19fca",
   "metadata": {},
   "outputs": [],
   "source": [
    "from tqdm.auto import tqdm\n",
    "\n",
    "# 1. Take in various parameters required for training and test steps\n",
    "def train(model: torch.nn.Module, \n",
    "          train_dataloader: torch.utils.data.DataLoader, \n",
    "          test_dataloader: torch.utils.data.DataLoader, \n",
    "          optimizer: torch.optim.Optimizer,\n",
    "          loss_fn: torch.nn.Module = nn.CrossEntropyLoss(),\n",
    "          epochs: int = 25):\n",
    "    \n",
    "    # 2. Create empty results dictionary\n",
    "    results = {\"train_loss\": [],\n",
    "        \"train_acc\": [],\n",
    "        \"test_loss\": [],\n",
    "        \"test_acc\": []\n",
    "    }\n",
    "    \n",
    "    # 3. Loop through training and testing steps for a number of epochs\n",
    "    for epoch in tqdm(range(epochs)):\n",
    "        train_loss, train_acc = train_step(model=model,\n",
    "                                           dataloader=train_dataloader,\n",
    "                                           loss_fn=loss_fn,\n",
    "                                           optimizer=optimizer)\n",
    "        test_loss, test_acc = test_step(model=model,\n",
    "            dataloader=test_dataloader,\n",
    "            loss_fn=loss_fn)\n",
    "        \n",
    "        # 4. Print out what's happening\n",
    "        print(\n",
    "            f\"Epoch: {epoch+1} | \"\n",
    "            f\"train_loss: {train_loss:.4f} | \"\n",
    "            f\"train_acc: {train_acc:.4f} | \"\n",
    "            f\"test_loss: {test_loss:.4f} | \"\n",
    "            f\"test_acc: {test_acc:.4f}\"\n",
    "        )\n",
    "\n",
    "        # 5. Update results dictionary\n",
    "        # Ensure all data is moved to CPU and converted to float for storage\n",
    "        results[\"train_loss\"].append(train_loss.item() if isinstance(train_loss, torch.Tensor) else train_loss)\n",
    "        results[\"train_acc\"].append(train_acc.item() if isinstance(train_acc, torch.Tensor) else train_acc)\n",
    "        results[\"test_loss\"].append(test_loss.item() if isinstance(test_loss, torch.Tensor) else test_loss)\n",
    "        results[\"test_acc\"].append(test_acc.item() if isinstance(test_acc, torch.Tensor) else test_acc)\n",
    "\n",
    "    # 6. Return the filled results at the end of the epochs\n",
    "    return results"
   ]
  },
  {
   "cell_type": "markdown",
   "id": "69c1bc21-197b-4814-81e3-d70baaa42f32",
   "metadata": {},
   "source": [
    "### Finally pass `model` through the `train()` to train the model and evaluate it"
   ]
  },
  {
   "cell_type": "code",
   "execution_count": 17,
   "id": "b2fa76da-91ad-4e20-8e55-3b05a19f135f",
   "metadata": {},
   "outputs": [
    {
     "data": {
      "application/vnd.jupyter.widget-view+json": {
       "model_id": "24a8560983a54780b051ddec46fbd9a0",
       "version_major": 2,
       "version_minor": 0
      },
      "text/plain": [
       "  0%|          | 0/25 [00:00<?, ?it/s]"
      ]
     },
     "metadata": {},
     "output_type": "display_data"
    },
    {
     "name": "stdout",
     "output_type": "stream",
     "text": [
      "Epoch: 1 | train_loss: 1.9916 | train_acc: 0.3790 | test_loss: 1.9404 | test_acc: 0.4132\n",
      "Epoch: 2 | train_loss: 1.6346 | train_acc: 0.4853 | test_loss: 1.6457 | test_acc: 0.5104\n",
      "Epoch: 3 | train_loss: 1.4893 | train_acc: 0.5205 | test_loss: 1.3837 | test_acc: 0.5781\n",
      "Epoch: 4 | train_loss: 1.3768 | train_acc: 0.5687 | test_loss: 1.2767 | test_acc: 0.5972\n",
      "Epoch: 5 | train_loss: 1.3074 | train_acc: 0.5813 | test_loss: 1.2547 | test_acc: 0.5851\n",
      "Epoch: 6 | train_loss: 1.2483 | train_acc: 0.6080 | test_loss: 1.2481 | test_acc: 0.5885\n",
      "Epoch: 7 | train_loss: 1.2241 | train_acc: 0.6040 | test_loss: 1.2319 | test_acc: 0.5938\n",
      "Epoch: 8 | train_loss: 1.1923 | train_acc: 0.6250 | test_loss: 1.2173 | test_acc: 0.5990\n",
      "Epoch: 9 | train_loss: 1.1646 | train_acc: 0.6335 | test_loss: 1.2006 | test_acc: 0.5990\n",
      "Epoch: 10 | train_loss: 1.1301 | train_acc: 0.6379 | test_loss: 1.1912 | test_acc: 0.6042\n",
      "Epoch: 11 | train_loss: 1.1074 | train_acc: 0.6348 | test_loss: 1.1898 | test_acc: 0.5920\n",
      "Epoch: 12 | train_loss: 1.0833 | train_acc: 0.6424 | test_loss: 1.1858 | test_acc: 0.6024\n",
      "Epoch: 13 | train_loss: 1.0679 | train_acc: 0.6594 | test_loss: 1.1759 | test_acc: 0.6076\n",
      "Epoch: 14 | train_loss: 1.0440 | train_acc: 0.6696 | test_loss: 1.1672 | test_acc: 0.6042\n",
      "Epoch: 15 | train_loss: 1.0399 | train_acc: 0.6665 | test_loss: 1.1599 | test_acc: 0.6111\n",
      "Epoch: 16 | train_loss: 1.0361 | train_acc: 0.6638 | test_loss: 1.1581 | test_acc: 0.6111\n",
      "Epoch: 17 | train_loss: 1.0231 | train_acc: 0.6679 | test_loss: 1.1540 | test_acc: 0.6128\n",
      "Epoch: 18 | train_loss: 1.0140 | train_acc: 0.6728 | test_loss: 1.1572 | test_acc: 0.6198\n",
      "Epoch: 19 | train_loss: 1.0020 | train_acc: 0.6728 | test_loss: 1.1454 | test_acc: 0.6146\n",
      "Epoch: 20 | train_loss: 0.9892 | train_acc: 0.6786 | test_loss: 1.1449 | test_acc: 0.6233\n",
      "Epoch: 21 | train_loss: 0.9575 | train_acc: 0.6866 | test_loss: 1.1433 | test_acc: 0.6198\n",
      "Epoch: 22 | train_loss: 0.9802 | train_acc: 0.6728 | test_loss: 1.1447 | test_acc: 0.6198\n",
      "Epoch: 23 | train_loss: 0.9535 | train_acc: 0.6973 | test_loss: 1.1442 | test_acc: 0.6163\n",
      "Epoch: 24 | train_loss: 0.9565 | train_acc: 0.6853 | test_loss: 1.1370 | test_acc: 0.6181\n",
      "Epoch: 25 | train_loss: 0.9592 | train_acc: 0.6763 | test_loss: 1.1356 | test_acc: 0.6181\n",
      "Total training time: 4105.428 seconds\n"
     ]
    }
   ],
   "source": [
    "# Set random seeds\n",
    "torch.manual_seed(42) \n",
    "torch.cuda.manual_seed(42)\n",
    "\n",
    "# Set number of epochs\n",
    "NUM_EPOCHS = 25\n",
    "\n",
    "# Setup loss function and optimizer\n",
    "loss_fn = nn.CrossEntropyLoss()\n",
    "optimizer = torch.optim.Adam(params=model.parameters(), lr=0.001)\n",
    "\n",
    "# Start the timer\n",
    "from timeit import default_timer as timer \n",
    "start_time = timer()\n",
    "\n",
    "# Train model_0 \n",
    "model_results = train(model=model, \n",
    "                        train_dataloader=train_dataloader,\n",
    "                        test_dataloader=test_dataloader,\n",
    "                        optimizer=optimizer,\n",
    "                        loss_fn=loss_fn, \n",
    "                        epochs=NUM_EPOCHS)\n",
    "\n",
    "# End the timer and print out how long it took\n",
    "end_time = timer()\n",
    "print(f\"Total training time: {end_time-start_time:.3f} seconds\")"
   ]
  },
  {
   "cell_type": "markdown",
   "id": "3b0e8e69-c3cf-4e41-bdef-d29e7e6aa55e",
   "metadata": {},
   "source": [
    "## Plot Loss Curves\n",
    "\n",
    "* Visualize training and testing performance over 25 epochs\n",
    "* Will help in adressing any issues like overfitting or underfitting if it arises"
   ]
  },
  {
   "cell_type": "code",
   "execution_count": 18,
   "id": "47ef8b13-52a6-443e-b3b0-1e24607aeafc",
   "metadata": {},
   "outputs": [
    {
     "data": {
      "text/plain": [
       "dict_keys(['train_loss', 'train_acc', 'test_loss', 'test_acc'])"
      ]
     },
     "execution_count": 18,
     "metadata": {},
     "output_type": "execute_result"
    }
   ],
   "source": [
    "# Check the model_0_results keys\n",
    "model_results.keys()"
   ]
  },
  {
   "cell_type": "code",
   "execution_count": 19,
   "id": "a075140e-bd28-40f4-aca4-db3c97ec3268",
   "metadata": {},
   "outputs": [],
   "source": [
    "from typing import Dict, List  # For type hints\n",
    "def plot_loss_curves(results: Dict[str, List[float]]):\n",
    "    \"\"\"Plots training curves of a results dictionary.\n",
    "\n",
    "    Args:\n",
    "        results (dict): dictionary containing list of values, e.g.\n",
    "            {\"train_loss\": [...],\n",
    "             \"train_acc\": [...],\n",
    "             \"test_loss\": [...],\n",
    "             \"test_acc\": [...]}\n",
    "    \"\"\"\n",
    "    \n",
    "    # Get the loss values of the results dictionary (training and test)\n",
    "    loss = results['train_loss']\n",
    "    test_loss = results['test_loss']\n",
    "\n",
    "    # Get the accuracy values of the results dictionary (training and test)\n",
    "    accuracy = results['train_acc']\n",
    "    test_accuracy = results['test_acc']\n",
    "\n",
    "    # Figure out how many epochs there were\n",
    "    epochs = range(len(results['train_loss']))\n",
    "\n",
    "    # Setup a plot \n",
    "    plt.figure(figsize=(15, 7))\n",
    "\n",
    "    # Plot loss\n",
    "    plt.subplot(1, 2, 1)\n",
    "    plt.plot(epochs, loss, label='train_loss')\n",
    "    plt.plot(epochs, test_loss, label='test_loss')\n",
    "    plt.title('Loss')\n",
    "    plt.xlabel('Epochs')\n",
    "    plt.legend()\n",
    "\n",
    "    # Plot accuracy\n",
    "    plt.subplot(1, 2, 2)\n",
    "    plt.plot(epochs, accuracy, label='train_accuracy')\n",
    "    plt.plot(epochs, test_accuracy, label='test_accuracy')\n",
    "    plt.title('Accuracy')\n",
    "    plt.xlabel('Epochs')\n",
    "    plt.legend();\n",
    "    plt.savefig('B5_10Class1')"
   ]
  },
  {
   "cell_type": "code",
   "execution_count": 20,
   "id": "38bba91d-dc90-41d0-9f62-21a5bef56812",
   "metadata": {},
   "outputs": [
    {
     "data": {
      "image/png": "[encoded data removed]",
      "text/plain": [
       "<Figure size 1500x700 with 2 Axes>"
      ]
     },
     "metadata": {},
     "output_type": "display_data"
    }
   ],
   "source": [
    "plot_loss_curves(model_results)"
   ]
  },
  {
   "cell_type": "markdown",
   "id": "ed7211c4-ffcc-4fb6-87c2-7d06bea01c98",
   "metadata": {},
   "source": [
    "## Plot Confusion Matrix and Calculate F1 score"
   ]
  },
  {
   "cell_type": "code",
   "execution_count": 21,
   "id": "9adc8fff-3ee6-4cd1-a5fc-eec7168b443f",
   "metadata": {},
   "outputs": [
    {
     "data": {
      "image/png": "[encoded data removed]",
      "text/plain": [
       "<Figure size 1000x800 with 2 Axes>"
      ]
     },
     "metadata": {},
     "output_type": "display_data"
    },
    {
     "name": "stdout",
     "output_type": "stream",
     "text": [
      "Classification Report:\n",
      "              precision    recall  f1-score   support\n",
      "\n",
      "         Cat       0.47      0.59      0.52        80\n",
      "         Dog       0.63      0.47      0.54        40\n",
      "    Elephant       0.71      0.76      0.73        80\n",
      "     Gorilla       0.51      0.60      0.55        40\n",
      "       Hippo       0.42      0.25      0.31        40\n",
      "      Monkey       0.50      0.23      0.31        40\n",
      "       Mouse       0.52      0.30      0.38        40\n",
      "       Panda       0.68      0.89      0.77        80\n",
      "       Tiger       0.47      0.57      0.52        40\n",
      "       Zebra       0.85      0.82      0.84        80\n",
      "\n",
      "    accuracy                           0.61       560\n",
      "   macro avg       0.58      0.55      0.55       560\n",
      "weighted avg       0.60      0.61      0.60       560\n",
      "\n",
      "Overall F1 Score: 0.5956\n"
     ]
    },
    {
     "data": {
      "text/plain": [
       "<Figure size 640x480 with 0 Axes>"
      ]
     },
     "metadata": {},
     "output_type": "display_data"
    }
   ],
   "source": [
    "# Import necessary libraries\n",
    "from sklearn.metrics import confusion_matrix, classification_report, f1_score\n",
    "import seaborn as sns\n",
    "import matplotlib.pyplot as plt\n",
    "import numpy as np\n",
    "\n",
    "# Set the model to evaluation mode\n",
    "model.eval()\n",
    "\n",
    "# Initialize lists to store true labels and predictions\n",
    "true_labels = []\n",
    "predictions = []\n",
    "\n",
    "# Disable gradient computation for evaluation\n",
    "with torch.no_grad():\n",
    "    for images, labels in test_dataloader:\n",
    "        images, labels = images.to(device), labels.to(device)\n",
    "        outputs = model(images)\n",
    "        _, predicted = torch.max(outputs, 1)\n",
    "        true_labels.extend(labels.cpu().numpy())\n",
    "        predictions.extend(predicted.cpu().numpy())\n",
    "\n",
    "# Generate confusion matrix\n",
    "cm = confusion_matrix(true_labels, predictions)\n",
    "plt.figure(figsize=(10, 8))\n",
    "sns.heatmap(cm, annot=True, fmt='d', cmap='Blues', xticklabels=train_data.classes, yticklabels=train_data.classes)\n",
    "plt.xlabel('Predicted')\n",
    "plt.ylabel('True')\n",
    "plt.title('Confusion Matrix')\n",
    "plt.show()\n",
    "plt.savefig('B5_10Class2')\n",
    "\n",
    "# Generate classification report which includes F1 score\n",
    "print(\"Classification Report:\")\n",
    "print(classification_report(true_labels, predictions, target_names=train_data.classes))\n",
    "\n",
    "# Calculate and print the overall F1 score\n",
    "f1 = f1_score(true_labels, predictions, average='weighted')\n",
    "print(f\"Overall F1 Score: {f1:.4f}\")\n"
   ]
  },
  {
   "cell_type": "markdown",
   "id": "67c969be-543d-488e-a567-ce4725500afb",
   "metadata": {},
   "source": [
    "### "
   ]
  }
 ],
 "metadata": {
  "kernelspec": {
   "display_name": "Python 3 (ipykernel)",
   "language": "python",
   "name": "python3"
  },
  "language_info": {
   "codemirror_mode": {
    "name": "ipython",
    "version": 3
   },
   "file_extension": ".py",
   "mimetype": "text/x-python",
   "name": "python",
   "nbconvert_exporter": "python",
   "pygments_lexer": "ipython3",
   "version": "3.8.20"
  }
 },
 "nbformat": 4,
 "nbformat_minor": 5
}
