{
 "cells": [
  {
   "cell_type": "markdown",
   "id": "28913bb9-ca99-49d1-b311-43812729807d",
   "metadata": {},
   "source": [
    "# Image Sonification\n",
    "\n"
   ]
  },
  {
   "cell_type": "markdown",
   "id": "57342b6a-a922-40f4-8027-2ed390324199",
   "metadata": {},
   "source": [
    "## Convert Grayscale Image to Audio via Griffin-Lim Spectrogram Reconstruction\n",
    "This script converts a grayscale image into a synthetic audio waveform by treating the image as a magnitude spectrogram, then reconstructing the audio using the Griffin-Lim algorithm. It:\n",
    "\n",
    "* Loads and resizes the image to fit spectrogram dimensions (`513 × 128`)\n",
    "\n",
    "* Normalizes and vertically flips the image to match spectrogram orientation\n",
    "\n",
    "* Converts the image into a linear-scale spectrogram\n",
    "\n",
    "* Applies the Griffin-Lim algorithm to reconstruct audio from the spectrogram\n",
    "\n",
    "* Saves the output as a `.wav` file\n",
    "\n",
    "The process is useful for low-level image sonification and for evaluating whether image features can be retained in the audio domain."
   ]
  },
  {
   "cell_type": "code",
   "execution_count": 8,
   "id": "1f1fd641-feed-42e8-9f37-68f5ae0a34cb",
   "metadata": {},
   "outputs": [
    {
     "name": "stdout",
     "output_type": "stream",
     "text": [
      "Audio saved to car.wav\n"
     ]
    }
   ],
   "source": [
    "import numpy as np\n",
    "import cv2\n",
    "import librosa\n",
    "import soundfile as sf\n",
    "\n",
    "def image_to_spectrogram_audio(image_path, output_audio=\"output.wav\", sr=22050):\n",
    "    # Load image in grayscale\n",
    "    image = cv2.imread(image_path, cv2.IMREAD_GRAYSCALE)\n",
    "    if image is None:\n",
    "        raise ValueError(\"Image not found or invalid path.\")\n",
    "    \n",
    "    # Resize image to match Griffin-Lim constraints (n_fft = 1024, hop_length=512)\n",
    "    # Height (frequency bins) must be (n_fft // 2 + 1) = 513 for n_fft=1024\n",
    "    target_height = 513  # For n_fft=1024\n",
    "    target_width = 128   # Adjust width as needed (e.g., 128 for time steps)\n",
    "    image = cv2.resize(image, (target_width, target_height))\n",
    "    \n",
    "    # Normalize to [0, 1] and flip vertically (spectrograms use bottom-to-top frequency)\n",
    "    image_normalized = np.flipud(image.astype(np.float32) / 255.0)\n",
    "    \n",
    "    # Convert image to dB-scaled \"spectrogram\" (add epsilon to avoid log(0))\n",
    "    spectrogram_db = librosa.amplitude_to_db(image_normalized + 1e-7, ref=np.max)\n",
    "    \n",
    "    # Convert dB back to linear amplitude\n",
    "    spectrogram_linear = librosa.db_to_amplitude(spectrogram_db)\n",
    "    \n",
    "    # Griffin-Lim parameters (must match spectrogram dimensions)\n",
    "    n_fft = 1024\n",
    "    hop_length = 512\n",
    "    win_length = 1024\n",
    "    \n",
    "    # Reconstruct audio\n",
    "    audio = librosa.griffinlim(\n",
    "        spectrogram_linear,\n",
    "        n_iter=32,\n",
    "        n_fft=n_fft,\n",
    "        hop_length=hop_length,\n",
    "        win_length=win_length\n",
    "    )\n",
    "    \n",
    "    # Save as WAV file\n",
    "    sf.write(output_audio, audio, sr)\n",
    "    print(f\"Audio saved to {output_audio}\")\n",
    "\n",
    "# Example usage\n",
    "image_to_spectrogram_audio(r\"D:\\Documents\\Iquisitionis\\103\\vehicle-type-recognition\\dataset\\car\\Image_15.jpg\", \"car.wav\")"
   ]
  },
  {
   "cell_type": "code",
   "execution_count": null,
   "id": "c27fc6bb-f904-484c-81ab-889e31731bd2",
   "metadata": {},
   "outputs": [],
   "source": []
  }
 ],
 "metadata": {
  "kernelspec": {
   "display_name": "Python 3 (ipykernel)",
   "language": "python",
   "name": "python3"
  },
  "language_info": {
   "codemirror_mode": {
    "name": "ipython",
    "version": 3
   },
   "file_extension": ".py",
   "mimetype": "text/x-python",
   "name": "python",
   "nbconvert_exporter": "python",
   "pygments_lexer": "ipython3",
   "version": "3.8.20"
  }
 },
 "nbformat": 4,
 "nbformat_minor": 5
}
